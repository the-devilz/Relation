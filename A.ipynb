{
  "nbformat": 4,
  "nbformat_minor": 0,
  "metadata": {
    "colab": {
      "name": "A1.ipynb",
      "provenance": [],
      "collapsed_sections": [],
      "authorship_tag": "ABX9TyPe2Rms9WOLUd9syAPIuwvk",
      "include_colab_link": true
    },
    "kernelspec": {
      "name": "python3",
      "display_name": "Python 3"
    }
  },
  "cells": [
    {
      "cell_type": "markdown",
      "metadata": {
        "id": "view-in-github",
        "colab_type": "text"
      },
      "source": [
        "<a href=\"https://colab.research.google.com/github/the-devilz/Relation/blob/main/A.ipynb\" target=\"_parent\"><img src=\"https://colab.research.google.com/assets/colab-badge.svg\" alt=\"Open In Colab\"/></a>"
      ]
    },
    {
      "cell_type": "markdown",
      "metadata": {
        "id": "dO9LSsJqSzwR"
      },
      "source": [
        "A: Given a finite set X and a relation R on X,  <X, R> as input. Write a program in Python to test whether R is \r\n",
        "1.\tReflexive    \r\n",
        "2.\tIrreflexive\r\n",
        "3.\tNot reflexive\r\n",
        "4.\tSymmetric\r\n",
        "5.\tAnti-symmetric\r\n",
        "6.\tNot symmetric\r\n",
        "7.\tTransitive\r\n",
        "8.\tNot transitive\r\n",
        "9.\tEquivalence If(refelcive & symmetric & transitive): yes\r\n",
        "10.\tPartial order If(refelcive & Anti-symmetric & transitive): yes\r\n",
        " \r\n",
        "**Written by Ram Nivas Kumar**\r\n",
        "\r\n"
      ]
    },
    {
      "cell_type": "code",
      "metadata": {
        "id": "MV0dBPXJPOCR"
      },
      "source": [
        "# 1 Reflexive Relation\r\n",
        "# A relation 'Relation' on a set 'Set' is called reflexive when:\r\n",
        "# ∀ a ∈ Set, (a,a) ∈ Relation\r\n",
        "def reflexive(A, R):\r\n",
        "    \"\"\"Returns True if a relation R on set A is reflexive, False otherwise.\"\"\"\r\n",
        "    for a in A:\r\n",
        "        if (a, a) not in R:\r\n",
        "            return False\r\n",
        "    return True\r\n"
      ],
      "execution_count": null,
      "outputs": []
    },
    {
      "cell_type": "code",
      "metadata": {
        "id": "Ak0obdBmSzyW"
      },
      "source": [
        "# 2 Irreflexive Relation\r\n",
        "#\tA relation R on a set A is called reflexive if no (a, a) ∈ R holds for every element \r\n",
        "# a ∈ A .i.e. if set A = {a, b} then R = {(a, b), (b, a)}\r\n",
        "\r\n",
        "def irreflexive(A,R):\r\n",
        "    \"\"\"Returns True if a relation R on set A is Irreflexive, False otherwise.\"\"\"\r\n",
        "    for a in A: \r\n",
        "      if (a,a) in R:\r\n",
        "        return False\r\n",
        "    return True"
      ],
      "execution_count": null,
      "outputs": []
    },
    {
      "cell_type": "code",
      "metadata": {
        "id": "KrKenogOWgRW"
      },
      "source": [
        "# 3 Not-reflexive Relation\r\n",
        "#A relation R in a set A is not reflexive if there be\r\n",
        "# at least one element a ∈ A such that (a, a) ∉ R\r\n",
        "def nonreflexive(A, R):\r\n",
        "    return not reflexive(A,R)"
      ],
      "execution_count": null,
      "outputs": []
    },
    {
      "cell_type": "code",
      "metadata": {
        "id": "RhAR4jNRPyQa"
      },
      "source": [
        "# 4 Symmetric Relation\r\n",
        "# A relation 'Relation' is called symmetric when:\r\n",
        "#  ∀ (a, b) ∈ Relation, (b, a) ∈ Relation\r\n",
        "def symmetric(R):\r\n",
        "    \"\"\"Returns True if a relation R on set A is symmetric, False otherwise.\"\"\"\r\n",
        "    for a, b in R:\r\n",
        "        if (b, a) not in R:\r\n",
        "            return False\r\n",
        "    return True"
      ],
      "execution_count": null,
      "outputs": []
    },
    {
      "cell_type": "code",
      "metadata": {
        "id": "KBXSjlLJQSAz"
      },
      "source": [
        "# 5 Anti-symmetric Relation\r\n",
        "# A relation 'Relation' is called Anti-symmetric when:\r\n",
        "#  ∀ (a, b) ∈ Relation, (b, a) ∈ Relation and a ≠ b\r\n",
        "def antisymmetric(R):\r\n",
        "    \"\"\"Returns True if a relation R on set A is Anti-symmetric, False otherwise.\"\"\"\r\n",
        "    for a, b in R:\r\n",
        "        if (a,b) in R and (b,a) in R and a != b:\r\n",
        "            return False\r\n",
        "    return True\r\n",
        "  "
      ],
      "execution_count": null,
      "outputs": []
    },
    {
      "cell_type": "code",
      "metadata": {
        "id": "Rhu379cqYB6H"
      },
      "source": [
        "# 6 Not symmetric Relation\r\n",
        "def nonsymmetric(R):\r\n",
        "    return not symmetric(R)"
      ],
      "execution_count": null,
      "outputs": []
    },
    {
      "cell_type": "code",
      "metadata": {
        "id": "h0XDGFoOQCbv"
      },
      "source": [
        "# 7 Transitive Function\r\n",
        "# A relation 'Relation' is called transitive when:\r\n",
        "# ∀ (a, b) ∈ Relation, (b, c) ∈ Relation ==> (a, c) ∈ Relation\r\n",
        "def transitive(R):\r\n",
        "    \"\"\"Returns True if a relation R on set A is transitive, False otherwise.\"\"\"\r\n",
        "    for a in A:\r\n",
        "        for b in A:\r\n",
        "            if (a, b) in R:\r\n",
        "                for c in A:\r\n",
        "                    if (b, c) in R and (a, c) not in R:\r\n",
        "                        return False\r\n",
        "    return True"
      ],
      "execution_count": null,
      "outputs": []
    },
    {
      "cell_type": "code",
      "metadata": {
        "id": "WhglBerBZQFj"
      },
      "source": [
        "# 8 Not Transitive Relation\r\n",
        "def nontransitive(R):\r\n",
        "    return not transitive(R)"
      ],
      "execution_count": null,
      "outputs": []
    },
    {
      "cell_type": "code",
      "metadata": {
        "id": "O7keXTxMZh80"
      },
      "source": [
        "# 9 Equivalence relation If(refelcive & symmetric & transitive): yes\r\n",
        "def equivalence(A,R):\r\n",
        "    if reflexive(A, R) and symmetric(R) and transitive(R):\r\n",
        "      return True\r\n",
        "    return False"
      ],
      "execution_count": null,
      "outputs": []
    },
    {
      "cell_type": "code",
      "metadata": {
        "id": "Eu_izHryZrhU"
      },
      "source": [
        "# 10 Partial order relation If(refelcive & Anti-symmetric & transitive): yes\r\n",
        "def poset(A, R):\r\n",
        "    if reflexive(A, R) and antisymmetric(R) and transitive(R):\r\n",
        "      return True\r\n",
        "    return False"
      ],
      "execution_count": null,
      "outputs": []
    },
    {
      "cell_type": "code",
      "metadata": {
        "id": "9lUjD69gROeF"
      },
      "source": [
        "\r\n",
        "if __name__ == \"__main__\":\r\n",
        "    A = set([1, 2, 3, 4])\r\n",
        "    R1 = [(1, 1), (1, 2), (2, 1), (2, 2), (3, 4), (4, 1), (4, 4)]\r\n",
        "    R2 = [(1, 1), (1, 2), (2, 1)]\r\n",
        "    R3 = [(1, 1), (1, 2), (1, 4), (2, 1), (2, 2), (3, 3), (4, 1), (4, 4)]\r\n",
        "    R4 = [(2, 1), (3, 1), (3, 2), (4, 1), (4, 2), (4, 3)]\r\n",
        "    R5 = [(1, 1), (1, 2), (1, 3), (1, 4), (2, 2), (2, 3), (2, 4), (3, 3), (3, 4), (4, 4)]\r\n",
        "    R6 = [(3, 4)]\r\n",
        "    for R in [R1, R2, R3, R4, R5, R6]:\r\n",
        "        print (R)\r\n",
        "        print (\"Reflexive: \", reflexive(A, R))\r\n",
        "        print (\"Irreflexive: \", irreflexive(A,R))\r\n",
        "        print (\"Not-Reflexive: \", nonreflexive(A,R)) \r\n",
        "        print (\"Symmetric: \", symmetric(R))\r\n",
        "        print (\"Anti-Symmetric: \", antisymmetric(R))\r\n",
        "        print (\"Not-Symmetric: \", nonsymmetric(R))\r\n",
        "        print (\"Transitive:\", transitive(R))\r\n",
        "        print (\"Not-Transitive:\", nontransitive(R))\r\n",
        "        print (\"Equivalence:\", equivalence(A,R))\r\n",
        "        print (\"Partial Order:\", poset(A,R))\r\n",
        "        print (\"---***---\\n\")\r\n",
        "\r\n",
        "\r\n"
      ],
      "execution_count": null,
      "outputs": []
    }
  ]
}